{
 "cells": [
  {
   "cell_type": "code",
   "execution_count": null,
   "id": "1eaa0ab6",
   "metadata": {},
   "outputs": [],
   "source": [
    "# Install dependencies\n",
    "!pip install -q diffusers transformers accelerate gradio safetensors xformers"
   ]
  },
  {
   "cell_type": "code",
   "execution_count": null,
   "id": "33875f46",
   "metadata": {},
   "outputs": [],
   "source": [
    "from diffusers import StableDiffusionPipeline\n",
    "import torch\n",
    "import gradio as gr"
   ]
  },
  {
   "cell_type": "code",
   "execution_count": null,
   "id": "b254527e",
   "metadata": {},
   "outputs": [],
   "source": [
    "# Load the model (Dreamlike Photoreal 2.0)\n",
    "model_id = \"dreamlike-art/dreamlike-photoreal-2.0\"  # You can replace with a sharper model\n",
    "\n",
    "pipe = StableDiffusionPipeline.from_pretrained(\n",
    "    model_id,\n",
    "    torch_dtype=torch.float16,\n",
    "    use_auth_token=True,  # Replace with True if using private models\n",
    "    safety_checker=None\n",
    ")\n",
    "pipe.to(\"cuda\")\n",
    "pipe.enable_xformers_memory_efficient_attention()"
   ]
  },
  {
   "cell_type": "code",
   "execution_count": null,
   "id": "50058e03",
   "metadata": {},
   "outputs": [],
   "source": [
    "def generate(prompt, guidance=7.5, steps=30, width=512, height=512):\n",
    "    image = pipe(prompt, guidance_scale=guidance, num_inference_steps=steps, height=height, width=width).images[0]\n",
    "    return image"
   ]
  },
  {
   "cell_type": "code",
   "execution_count": null,
   "id": "ab036041",
   "metadata": {},
   "outputs": [],
   "source": [
    "# Gradio UI\n",
    "with gr.Blocks() as demo:\n",
    "    gr.Markdown(\"# 🎨 Dreamlike Stable Diffusion Generator\")\n",
    "    with gr.Row():\n",
    "        prompt = gr.Textbox(label=\"Prompt\", placeholder=\"Enter your dream...\")\n",
    "        image_output = gr.Image(label=\"Generated Image\")\n",
    "    with gr.Row():\n",
    "        guidance = gr.Slider(1, 20, value=7.5, label=\"Guidance Scale\")\n",
    "        steps = gr.Slider(10, 50, value=30, label=\"Inference Steps\")\n",
    "    with gr.Row():\n",
    "        width = gr.Slider(256, 768, step=64, value=512, label=\"Width\")\n",
    "        height = gr.Slider(256, 768, step=64, value=512, label=\"Height\")\n",
    "    generate_btn = gr.Button(\"Generate\")\n",
    "    \n",
    "    generate_btn.click(fn=generate, inputs=[prompt, guidance, steps, width, height], outputs=image_output)\n",
    "\n",
    "demo.launch(debug=True)"
   ]
  }
 ],
 "metadata": {
  "kernelspec": {
   "display_name": "Python 3",
   "language": "python",
   "name": "python3"
  },
  "language_info": {
   "name": "python",
   "version": ""
  }
 },
 "nbformat": 4,
 "nbformat_minor": 5
}